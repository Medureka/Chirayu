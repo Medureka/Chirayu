{
 "cells": [
  {
   "cell_type": "code",
   "execution_count": null,
   "id": "e8f92af8",
   "metadata": {},
   "outputs": [],
   "source": [
    "import pandas as pd\n",
    "import numpy as np\n",
    "import matplotlib.pyplot as plt\n",
    "%matplotlib inline\n",
    "import seaborn as sns\n",
    "import re\n",
    "\n",
    "from sklearn.svm import SVC\n",
    "from sklearn.tree import DecisionTreeClassifier\n",
    "from sklearn.ensemble import RandomForestClassifier, AdaBoostClassifier, GradientBoostingClassifier\n",
    "from sklearn.model_selection import train_test_split, GridSearchCV\n",
    "from sklearn.metrics import accuracy_score, confusion_matrix, classification_report, make_scorer\n",
    "\n",
    "from plotly.offline import iplot\n",
    "import plotly as py\n",
    "import plotly.tools as tls\n",
    "\n",
    "import pickle"
   ]
  },
  {
   "cell_type": "code",
   "execution_count": null,
   "id": "f23fa67f",
   "metadata": {},
   "outputs": [],
   "source": [
    "df = pd.read_csv('data.csv')\n",
    "df.head()"
   ]
  },
  {
   "cell_type": "code",
   "execution_count": null,
   "id": "9a3e316c",
   "metadata": {},
   "outputs": [],
   "source": [
    "df.info()"
   ]
  },
  {
   "cell_type": "code",
   "execution_count": null,
   "id": "fdd667b7",
   "metadata": {},
   "outputs": [],
   "source": [
    "df.describe()"
   ]
  },
  {
   "cell_type": "code",
   "execution_count": null,
   "id": "e77b292e",
   "metadata": {},
   "outputs": [],
   "source": [
    "df.isnull().sum()"
   ]
  },
  {
   "cell_type": "code",
   "execution_count": null,
   "id": "7df1bae1",
   "metadata": {},
   "outputs": [],
   "source": [
    "df['target'].value_counts()"
   ]
  },
  {
   "cell_type": "code",
   "execution_count": null,
   "id": "6359abad",
   "metadata": {},
   "outputs": [],
   "source": [
    "df['target'].value_counts()/df.shape[0]*100 "
   ]
  },
  {
   "cell_type": "code",
   "execution_count": null,
   "id": "9ca86ca0",
   "metadata": {},
   "outputs": [],
   "source": [
    "labels = ['yes', 'No']\n",
    "values = df['target'].value_counts().values\n",
    "\n",
    "plt.pie(values, labels=labels, autopct='%1.0f%%')\n",
    "plt.title('Heart Disease')\n",
    "plt.show()"
   ]
  },
  {
   "cell_type": "code",
   "execution_count": null,
   "id": "a016288b",
   "metadata": {},
   "outputs": [],
   "source": [
    "plt.figure(figsize=(15, 15))\n",
    "sns.heatmap(df.corr(), annot = True, cmap = \"Blues\")\n",
    "plt.show()"
   ]
  },
  {
   "cell_type": "code",
   "execution_count": null,
   "id": "555711c7",
   "metadata": {},
   "outputs": [],
   "source": [
    "df['age'].plot(kind = 'hist', title = 'Age Distribution')\n",
    "plt.show()"
   ]
  },
  {
   "cell_type": "code",
   "execution_count": null,
   "id": "7b2bf970",
   "metadata": {},
   "outputs": [],
   "source": [
    "print('Min age: ', min(df['age']))\n",
    "print('Max age: ', max(df['age']))\n",
    "print('Average age: ', df['age'].mean())"
   ]
  },
  {
   "cell_type": "code",
   "execution_count": null,
   "id": "91cad3d9",
   "metadata": {},
   "outputs": [],
   "source": [
    "sns.distplot(df[df['target'] == 1]['age'], label='Do not have heart disease')\n",
    "sns.distplot(df[df['target'] == 2]['age'], label = 'Have heart disease')\n",
    "plt.xlabel('Frequency')\n",
    "plt.ylabel('Age')\n",
    "plt.title('Age Distribution based on Heart Disease')\n",
    "plt.legend()\n",
    "plt.show()"
   ]
  },
  {
   "cell_type": "code",
   "execution_count": null,
   "id": "2f6c8bd1",
   "metadata": {},
   "outputs": [],
   "source": [
    "print('Min age of people who do not have heart disease: ', min(df[df['target'] == 1]['age']))\n",
    "print('Max age of people who do not have heart disease: ', max(df[df['target'] == 1]['age']))\n",
    "print('Average age of people who do not have heart disease: ', df[df['target'] == 1]['age'].mean())"
   ]
  },
  {
   "cell_type": "code",
   "execution_count": null,
   "id": "7eabb84d",
   "metadata": {},
   "outputs": [],
   "source": [
    "F = df[df['sex'] == 0].count()['target']\n",
    "M = df[df['sex'] == 1].count()['target']\n",
    "\n",
    "# Create a plot\n",
    "figure, ax = plt.subplots(figsize = (6, 4))\n",
    "ax.bar(x = ['Female', 'Male'], height = [F, M])\n",
    "plt.xlabel('Gender')\n",
    "plt.title('Number of Males and Females in the dataset')\n",
    "plt.show()"
   ]
  },
  {
   "cell_type": "code",
   "execution_count": null,
   "id": "12c56434",
   "metadata": {},
   "outputs": [],
   "source": [
    "df.groupby(df['cp']).count()['target'].plot(kind = 'bar', title = 'Chest Pain Types', figsize = (8, 6))\n",
    "plt.xlabel('Chest Pain Types')\n",
    "plt.xticks(np.arange(4), ('typical angina', 'atypical angina', 'non-anginal pain', 'asymptomatic'), rotation = 0)\n",
    "plt.show()"
   ]
  },
  {
   "cell_type": "code",
   "execution_count": null,
   "id": "b8f47d38",
   "metadata": {},
   "outputs": [],
   "source": [
    "pd.crosstab(df.cp,df.target).plot(kind = \"bar\", figsize = (8, 6))\n",
    "plt.title('Heart Disease Frequency According to Chest Pain Type')\n",
    "plt.xlabel('Chest Pain Type')\n",
    "plt.xticks(np.arange(4), ('typical angina', 'atypical angina', 'non-anginal pain', 'asymptomatic'), rotation = 0)\n",
    "plt.ylabel('Frequency')\n",
    "plt.show()"
   ]
  },
  {
   "cell_type": "code",
   "execution_count": null,
   "id": "10eed30f",
   "metadata": {},
   "outputs": [],
   "source": [
    "df['trestbps'].plot(kind = 'hist', title = 'Blood Pressure in mm Hg', figsize = (8, 6))\n",
    "plt.show()"
   ]
  },
  {
   "cell_type": "code",
   "execution_count": null,
   "id": "0699a596",
   "metadata": {},
   "outputs": [],
   "source": [
    "fig, (axis1, axis2) = plt.subplots(1, 2,figsize=(25, 5))\n",
    "ax = sns.distplot(df[df['target'] == 1]['trestbps'], label='Do not have heart disease', ax = axis1)\n",
    "ax.set(xlabel='People Do Not Have Heart Disease')\n",
    "ax = sns.distplot(df[df['target'] == 2]['trestbps'], label = 'Have heart disease', ax = axis2)\n",
    "ax.set(xlabel='People Have Heart Disease')\n",
    "plt.show()"
   ]
  },
  {
   "cell_type": "code",
   "execution_count": null,
   "id": "14a3e3cd",
   "metadata": {},
   "outputs": [],
   "source": [
    "print('Min blood pressure of people who do not have heart disease: ', min(df[df['target'] == 1]['trestbps']))\n",
    "print('Max blood pressure of people who do not have heart disease: ', max(df[df['target'] == 1]['trestbps']))\n",
    "print('Average blood pressure of people who do not have heart disease: ', df[df['target'] == 1]['trestbps'].mean())"
   ]
  },
  {
   "cell_type": "code",
   "execution_count": null,
   "id": "aa711251",
   "metadata": {},
   "outputs": [],
   "source": [
    "df['chol'].plot(kind = 'hist', title = 'Serum Cholestoral in mg/dl', figsize = (8, 6))\n",
    "plt.show()"
   ]
  },
  {
   "cell_type": "code",
   "execution_count": null,
   "id": "06604ff1",
   "metadata": {},
   "outputs": [],
   "source": [
    "fig, (axis1, axis2) = plt.subplots(1, 2, figsize=(25, 5))\n",
    "ax = sns.distplot(df[df['target'] == 1]['chol'], label='Do not have heart disease', ax = axis1)\n",
    "ax.set(xlabel='People Do Not Have Heart Disease')\n",
    "ax = sns.distplot(df[df['target'] == 2]['chol'], label = 'Have heart disease', ax = axis2)\n",
    "ax.set(xlabel='People Have Heart Disease')\n",
    "plt.show()"
   ]
  },
  {
   "cell_type": "code",
   "execution_count": null,
   "id": "7c01f2fa",
   "metadata": {},
   "outputs": [],
   "source": [
    "print('Min cholestoral of people who do not have heart disease: ', min(df[df['target'] == 1]['chol']))\n",
    "print('Max cholestoral of people who do not have heart disease: ', max(df[df['target'] == 1]['chol']))\n",
    "print('Average cholestoral of people who do not have heart disease: ', df[df['target'] == 1]['chol'].mean())"
   ]
  },
  {
   "cell_type": "code",
   "execution_count": null,
   "id": "f2e25f95",
   "metadata": {},
   "outputs": [],
   "source": [
    "df.groupby(df['fbs']).count()['target'].plot(kind = 'bar', title = 'Fasting Blood Sugar', figsize = (8, 6))\n",
    "plt.xticks(np.arange(2), ('fbs < 120 mg/dl', 'fbs > 120 mg/dl'), rotation = 0)\n",
    "plt.show()"
   ]
  },
  {
   "cell_type": "code",
   "execution_count": null,
   "id": "7c19985d",
   "metadata": {},
   "outputs": [],
   "source": [
    "pd.crosstab(df.fbs,df.target).plot(kind = \"bar\", figsize = (8, 6))\n",
    "plt.title('Heart Disease Frequency According to Fasting Blood Sugar')\n",
    "plt.xlabel('Fasting Blood Sugar')\n",
    "plt.xticks(np.arange(2), ('fbs < 120 mg/dl', 'fbs > 120 mg/dl'), rotation = 0)\n",
    "plt.ylabel('Frequency')\n",
    "plt.show()"
   ]
  },
  {
   "cell_type": "code",
   "execution_count": null,
   "id": "bb5386b2",
   "metadata": {},
   "outputs": [],
   "source": [
    "df.groupby(df['restecg']).count()['target'].plot(kind = 'bar', title = 'Resting Electrocardiographic Results', figsize = (8, 6))\n",
    "plt.xticks(np.arange(3), ('normal', 'ST-T wave abnormality', 'probable or left ventricular hypertrophy'))\n",
    "plt.show()"
   ]
  },
  {
   "cell_type": "code",
   "execution_count": null,
   "id": "e7079a93",
   "metadata": {},
   "outputs": [],
   "source": [
    "pd.crosstab(df.restecg,df.target).plot(kind = \"bar\", figsize = (8, 6))\n",
    "plt.title('Heart Disease Frequency According to Resting Electrocardiographic Results')\n",
    "plt.xticks(np.arange(3), ('normal', 'ST-T wave abnormality', 'probable or left ventricular hypertrophy'))\n",
    "plt.xlabel('Resting Electrocardiographic Results')\n",
    "plt.ylabel('Frequency')\n",
    "plt.show()"
   ]
  },
  {
   "cell_type": "code",
   "execution_count": null,
   "id": "ae6ecf4e",
   "metadata": {},
   "outputs": [],
   "source": [
    "df['thalach'].plot(kind = 'hist', title = 'Maximum Heart Rate Achieved', figsize = (8, 6))\n",
    "plt.show()"
   ]
  },
  {
   "cell_type": "code",
   "execution_count": null,
   "id": "a3c8fc7c",
   "metadata": {},
   "outputs": [],
   "source": [
    "fig, (axis1, axis2) = plt.subplots(1, 2, figsize=(25, 5))\n",
    "ax = sns.distplot(df[df['target'] == 1]['thalach'], label='Do not have heart disease', ax = axis1)\n",
    "ax.set(xlabel = 'People Do Not Have Heart Disease')\n",
    "ax = sns.distplot(df[df['target'] == 2]['thalach'], label = 'Have heart disease', ax = axis2)\n",
    "ax.set(xlabel = 'People Have Heart Disease')\n",
    "plt.show()"
   ]
  },
  {
   "cell_type": "code",
   "execution_count": null,
   "id": "fc3f12b8",
   "metadata": {},
   "outputs": [],
   "source": []
  }
 ],
 "metadata": {
  "kernelspec": {
   "display_name": "Python 3 (ipykernel)",
   "language": "python",
   "name": "python3"
  },
  "language_info": {
   "codemirror_mode": {
    "name": "ipython",
    "version": 3
   },
   "file_extension": ".py",
   "mimetype": "text/x-python",
   "name": "python",
   "nbconvert_exporter": "python",
   "pygments_lexer": "ipython3",
   "version": "3.9.7"
  }
 },
 "nbformat": 4,
 "nbformat_minor": 5
}
